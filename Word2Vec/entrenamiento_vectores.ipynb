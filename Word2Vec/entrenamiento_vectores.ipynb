{
 "cells": [
  {
   "cell_type": "markdown",
   "id": "71dff9c5",
   "metadata": {},
   "source": [
    "# Word2Vec"
   ]
  },
  {
   "cell_type": "raw",
   "id": "021de92a",
   "metadata": {
    "vscode": {
     "languageId": "raw"
    }
   },
   "source": [
    "Word2Vec es un modelo que se utiliza para aprender representaciones vectoriales de palabras. \n",
    "Estas representaciones pueden capturar muchas propiedades lingüísticas de las palabras, \n",
    "como su significado semántico, gramatical y hasta contextual."
   ]
  },
  {
   "cell_type": "markdown",
   "id": "d50a81f1",
   "metadata": {},
   "source": [
    "LIBROS .PDF UTILIZADOS, DESCARGARLOS Y COPIAR LA CARPETA EN EL MISMO DIRECTORIO DEL ARCHIVO DE LA NOTEBOOK.\n",
    "https://drive.google.com/drive/folders/1n7c507Ty6CmqQjID--lJFA50zPsVln52?usp=sharing"
   ]
  },
  {
   "cell_type": "markdown",
   "id": "2878bffe",
   "metadata": {},
   "source": [
    "Instalar:\n",
    "pip install pypdf2 -q\n",
    "pip install tqdm -q"
   ]
  },
  {
   "cell_type": "markdown",
   "id": "72802f17",
   "metadata": {},
   "source": [
    "## 1. Importar Librerias"
   ]
  },
  {
   "cell_type": "code",
   "execution_count": null,
   "id": "f36c02c1",
   "metadata": {},
   "outputs": [],
   "source": [
    "import string\n",
    "from gensim.models import Word2Vec\n",
    "import PyPDF2                        #LECTOR DE .PDF"
   ]
  },
  {
   "cell_type": "markdown",
   "id": "32edd975",
   "metadata": {},
   "source": [
    "##### LIBROS (sociologia, historia)"
   ]
  },
  {
   "cell_type": "markdown",
   "id": "5539345e",
   "metadata": {},
   "source": [
    "IMPORTAR LIBRERIAS"
   ]
  },
  {
   "cell_type": "code",
   "execution_count": null,
   "id": "7519b6b0",
   "metadata": {},
   "outputs": [],
   "source": [
    "import os                       #MANEJO DE ARCHIVOS\n",
    "from tqdm import tqdm           #MUESTRA BARRA DE PROGRESO"
   ]
  },
  {
   "cell_type": "markdown",
   "id": "e6ecb18f",
   "metadata": {},
   "source": [
    "SE RENOMBRAN LOS DOCUMENTOS .PDF EN NOMBRES CONSECUTIVOS.\n",
    "SOLO SE PODRÁN RENOMBRAR UNA VEZ"
   ]
  },
  {
   "cell_type": "code",
   "execution_count": null,
   "id": "8bc47019",
   "metadata": {},
   "outputs": [],
   "source": [
    "# Ruta de la carpeta que contiene los archivos PDF\n",
    "path = 'libros'\n",
    "\n",
    "# Lista de archivos en la carpeta\n",
    "files = [f for f in os.listdir(path) if f.endswith('.pdf')]\n",
    "\n",
    "# Renombrar los archivos\n",
    "for i, filename in enumerate(sorted(files)):\n",
    "    old_path = os.path.join(path, filename)\n",
    "    new_path = os.path.join(path, f\"archivo {i}.pdf\")\n",
    "    os.rename(old_path, new_path)\n",
    "\n",
    "print(\"Archivos renombrados con éxito.\")"
   ]
  },
  {
   "cell_type": "markdown",
   "id": "4bf3b8a1",
   "metadata": {},
   "source": [
    "FUNCIÓN QUE OBTIENE LOS TEXTOS DE LOS .PDF -> texto"
   ]
  },
  {
   "cell_type": "code",
   "execution_count": null,
   "id": "7d45640c",
   "metadata": {},
   "outputs": [],
   "source": [
    "def extraer_texto_desde_pdf(ruta_archivo):\n",
    "    with open(ruta_archivo, 'rb') as archivo:\n",
    "        lector = PyPDF2.PdfReader(archivo)\n",
    "        texto = \"\"\n",
    "        for pagina in range(len(lector.pages)):\n",
    "            texto += lector.pages[pagina].extract_text()\n",
    "    return texto"
   ]
  },
  {
   "cell_type": "markdown",
   "id": "868f41ac",
   "metadata": {},
   "source": [
    "ARREGLO QUE REÚNE EN UNA SOLA VARIABLE \"todos_los_textos\", TODA LA INFORMACIÓN EXTRAIDA DE LOS .PDFs\n",
    "ANTE UN \"NO RECONOCIMIENTO DE TEXTO ILEGIBLE\" -> try - except"
   ]
  },
  {
   "cell_type": "code",
   "execution_count": null,
   "id": "0cc12e07",
   "metadata": {},
   "outputs": [],
   "source": [
    "ruta_carpeta = \"libros\"\n",
    "todos_los_textos = []\n",
    "\n",
    "for archivo in tqdm(os.listdir(ruta_carpeta)):\n",
    "    if archivo.endswith('.pdf'):\n",
    "        ruta_completa = os.path.join(ruta_carpeta, archivo)\n",
    "        try:\n",
    "            documento = extraer_texto_desde_pdf(ruta_completa)\n",
    "            todos_los_textos.append(documento)\n",
    "        except Exception as e:\n",
    "            print(f\"Error al procesar {archivo}: {e}\")"
   ]
  },
  {
   "cell_type": "markdown",
   "id": "18a41b59",
   "metadata": {},
   "source": [
    "CANTIDAD DE ARCHIVOS"
   ]
  },
  {
   "cell_type": "code",
   "execution_count": null,
   "id": "b99cd7e9",
   "metadata": {},
   "outputs": [],
   "source": [
    "len(todos_los_textos)"
   ]
  },
  {
   "cell_type": "markdown",
   "id": "df445303",
   "metadata": {},
   "source": [
    "SE SEPARA EL TEXTO POR EL CARACTER ESPECIFICADO = '.'"
   ]
  },
  {
   "cell_type": "code",
   "execution_count": null,
   "id": "753d6c6b",
   "metadata": {},
   "outputs": [],
   "source": [
    "oraciones_totales = []\n",
    "tamaño = 0\n",
    "\n",
    "for documento in todos_los_textos:\n",
    "    tamaño = tamaño + len(documento)\n",
    "    oraciones = documento.split('.')\n",
    "    oraciones_totales.extend(oraciones) "
   ]
  },
  {
   "cell_type": "code",
   "execution_count": null,
   "id": "c8606a42",
   "metadata": {},
   "outputs": [],
   "source": [
    "print(f\"Número de carácteres: {tamaño}\")"
   ]
  },
  {
   "cell_type": "code",
   "execution_count": null,
   "id": "66f6d317",
   "metadata": {},
   "outputs": [],
   "source": [
    "print(\"Cantidad de oraciones:\", len(oraciones_totales))"
   ]
  },
  {
   "cell_type": "markdown",
   "id": "4839680a",
   "metadata": {},
   "source": [
    "QUITAMOS PUNTUACIONES Y TRANSFORMAMOS A MINÚSCULAS"
   ]
  },
  {
   "cell_type": "code",
   "execution_count": null,
   "id": "e6b465b3",
   "metadata": {},
   "outputs": [],
   "source": [
    "oraciones_limpias = []\n",
    "for oracion in oraciones_totales:\n",
    "    # Eliminar puntuación y dividir por espacios\n",
    "    tokens = oracion.translate(str.maketrans('', \n",
    "                                    '', string.punctuation)).split()\n",
    "    # Convertir a minúsculas\n",
    "    tokens = [word.lower() for word in tokens if word.isalpha()]\n",
    "    if tokens:  # Añadir solo si hay tokens\n",
    "        oraciones_limpias.append(tokens)"
   ]
  },
  {
   "cell_type": "markdown",
   "id": "70407e59",
   "metadata": {},
   "source": [
    "MOSTRAMOS VECTOR N°:"
   ]
  },
  {
   "cell_type": "code",
   "execution_count": null,
   "id": "388dfde2",
   "metadata": {},
   "outputs": [],
   "source": [
    "oraciones_limpias[25000]"
   ]
  },
  {
   "cell_type": "markdown",
   "id": "09616d5f",
   "metadata": {},
   "source": [
    "ENTRENAMIENTO DEL MODELO.\n",
    "TAMAÑO VECTOR=500, CANT. PALABRAS ANTES/DESPUÉS=5, MÍNIMO DE REPETICIONES POR PALABRA=3, PROCESADORES O NÚCLEOS (CPU)=8"
   ]
  },
  {
   "cell_type": "code",
   "execution_count": null,
   "id": "6e74877d",
   "metadata": {},
   "outputs": [],
   "source": [
    "# Entrenar el modelo Word2Vec\n",
    "model = Word2Vec(sentences=oraciones_limpias, \n",
    "                 vector_size=500, window=5, min_count=3, workers=8)"
   ]
  },
  {
   "cell_type": "markdown",
   "id": "745aa295",
   "metadata": {},
   "source": [
    "PALABRAS CERCANAS. INTRODUCIR DISTINTAS PALABRAS Y VERIFICAR LA CERCANIA DEL RESULTADO.\n",
    "topn=5 (cantida de resultados)\n",
    "UNO O MAS RESULTADOS DEBERÍA TENER RELACIÓN. DEPENDE DE LOS DATOS DE ENTRENAMIENTO."
   ]
  },
  {
   "cell_type": "code",
   "execution_count": null,
   "id": "7ea5c1dd",
   "metadata": {},
   "outputs": [],
   "source": [
    "palabras_cercanas = model.wv.most_similar(\"hombre\", topn=5)\n",
    "palabras_cercanas"
   ]
  },
  {
   "cell_type": "code",
   "execution_count": null,
   "id": "02b2e463",
   "metadata": {},
   "outputs": [],
   "source": [
    "palabras_cercanas = model.wv.most_similar(\"mujer\", topn=5)\n",
    "palabras_cercanas"
   ]
  },
  {
   "cell_type": "code",
   "execution_count": null,
   "id": "5165f544",
   "metadata": {},
   "outputs": [],
   "source": [
    "palabras_cercanas = model.wv.most_similar(\"familia\", topn=5)\n",
    "palabras_cercanas"
   ]
  },
  {
   "cell_type": "code",
   "execution_count": null,
   "id": "1d06e72d",
   "metadata": {},
   "outputs": [],
   "source": [
    "palabras_cercanas = model.wv.most_similar(\"país\", topn=5)\n",
    "palabras_cercanas"
   ]
  },
  {
   "cell_type": "code",
   "execution_count": null,
   "id": "9c240c0c",
   "metadata": {},
   "outputs": [],
   "source": [
    "palabras_cercanas = model.wv.most_similar(\"iglesia\", topn=5)\n",
    "palabras_cercanas"
   ]
  },
  {
   "cell_type": "code",
   "execution_count": null,
   "id": "566bfbd6",
   "metadata": {},
   "outputs": [],
   "source": [
    "palabras_cercanas = model.wv.most_similar(\"guerra\", topn=5)\n",
    "palabras_cercanas"
   ]
  },
  {
   "cell_type": "code",
   "execution_count": null,
   "id": "babc66be",
   "metadata": {},
   "outputs": [],
   "source": [
    "palabras_cercanas = model.wv.most_similar(\"ley\", topn=5)\n",
    "palabras_cercanas"
   ]
  },
  {
   "cell_type": "code",
   "execution_count": null,
   "id": "26c19ec2",
   "metadata": {},
   "outputs": [],
   "source": [
    "palabras_cercanas = model.wv.most_similar(\"trabajo\", topn=5)\n",
    "palabras_cercanas"
   ]
  },
  {
   "cell_type": "markdown",
   "id": "97bdac81",
   "metadata": {},
   "source": [
    "SE GUARDA EL MODELO. embedding y binary"
   ]
  },
  {
   "cell_type": "code",
   "execution_count": null,
   "id": "c0404377",
   "metadata": {},
   "outputs": [],
   "source": [
    "model.wv.save_word2vec_format('emb_libros.txt', binary=False)\n",
    "model.wv.save_word2vec_format('emb_libros.bin', binary=True)"
   ]
  },
  {
   "cell_type": "markdown",
   "id": "2e3cbde6",
   "metadata": {},
   "source": [
    "SE CARGA EL MODELO"
   ]
  },
  {
   "cell_type": "code",
   "execution_count": null,
   "id": "9f51c176",
   "metadata": {},
   "outputs": [],
   "source": [
    "from gensim.models import KeyedVectors\n",
    "\n",
    "embeddings_cargados = KeyedVectors.load_word2vec_format('emb_libros.txt', binary=False)\n",
    "# O si fue guardado en formato binario:\n",
    "# embeddings_cargados = KeyedVectors.load_word2vec_format('embeddings.bin', binary=True)\n",
    "embeddings_cargados"
   ]
  },
  {
   "cell_type": "markdown",
   "id": "46519913",
   "metadata": {},
   "source": [
    "FUNCIÓN DE ANALOGÍA. SE CARGA EL EMBEDDING Y SE LE PASA 3 PALABRAS PARA VERIFICAR SU ANALOGÍA.\n",
    "MÉTODO most_similar"
   ]
  },
  {
   "cell_type": "code",
   "execution_count": null,
   "id": "ff2108d9",
   "metadata": {},
   "outputs": [],
   "source": [
    "def analogias(v1, v2, v3):\n",
    "    similitud = embeddings_cargados.most_similar(positive=[v1, v3], negative=[v2])\n",
    "    print(f\"{v1} es a {v2} como {similitud[0][0]} es a {v3}\") "
   ]
  },
  {
   "cell_type": "code",
   "execution_count": null,
   "id": "e0763258",
   "metadata": {},
   "outputs": [],
   "source": [
    "analogias('mercado', 'economía', 'trabajo')"
   ]
  },
  {
   "cell_type": "code",
   "execution_count": null,
   "id": "773a8d2e",
   "metadata": {},
   "outputs": [],
   "source": [
    "analogias('política', 'partido', 'país')"
   ]
  },
  {
   "cell_type": "code",
   "execution_count": null,
   "id": "0056668a",
   "metadata": {},
   "outputs": [],
   "source": [
    "analogias('tecnología', 'avance', 'futuro')"
   ]
  },
  {
   "cell_type": "code",
   "execution_count": null,
   "id": "c22b3d8e",
   "metadata": {},
   "outputs": [],
   "source": [
    "analogias('fuerza', 'máquina', 'hombre')"
   ]
  },
  {
   "cell_type": "markdown",
   "id": "97ab8c8f",
   "metadata": {},
   "source": [
    "EL RESULTADO DEPENDERÁ DE LOS DATOS DE ENTRENAMIENTO.\n",
    "EN ESTE CASO SE UTILIZARON TEXTOS DE 'HISTORIA' Y 'SOCIOLOGÍA', PODRÍA CAMBIARSE EL ÁREA DE APLICACIÓN O SUMARLE OTRA."
   ]
  }
 ],
 "metadata": {
  "kernelspec": {
   "display_name": "Python 3 (ipykernel)",
   "language": "python",
   "name": "python3"
  },
  "language_info": {
   "codemirror_mode": {
    "name": "ipython",
    "version": 3
   },
   "file_extension": ".py",
   "mimetype": "text/x-python",
   "name": "python",
   "nbconvert_exporter": "python",
   "pygments_lexer": "ipython3",
   "version": "3.9.13"
  }
 },
 "nbformat": 4,
 "nbformat_minor": 5
}
