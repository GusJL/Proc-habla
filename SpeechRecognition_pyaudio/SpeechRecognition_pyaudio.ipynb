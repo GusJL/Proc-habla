{
 "cells": [
  {
   "cell_type": "markdown",
   "metadata": {},
   "source": [
    "## RECONOCIMIENTO DE VOZ Y ENTIDADES"
   ]
  },
  {
   "cell_type": "code",
   "execution_count": null,
   "metadata": {},
   "outputs": [],
   "source": [
    "# Instalar SpeechRecognition:    pip install SpeechRecognition\n",
    "# Instalar pyaudio          :    pip install pyaudio\n",
    "# Instalar pyttsx3          :    pip pyttsx3\n",
    "\n",
    "import speech_recognition as sr #reconocimiento de voz -> texto\n",
    "import pyttsx3                  #reproducción de texto -> voz\n",
    "import spacy                    #reconocimiento de entidades\n",
    "\n",
    "recognizer = sr.Recognizer()\n",
    "mic = sr.Microphone()"
   ]
  },
  {
   "cell_type": "markdown",
   "metadata": {},
   "source": [
    "HABLAR AL MICRÓFONO, SIN PAUSA, ESPERAR Y SALDRÁ UN TEXTO COMO RESULTADO DE LO DICHO. "
   ]
  },
  {
   "cell_type": "code",
   "execution_count": null,
   "metadata": {},
   "outputs": [],
   "source": [
    "#AL EJECUTAR, INMEDIATAMENTE HABLAR AL MICRÓFONO UNA \"ORACIÓN\" o leer al micr+ofono, en voz alta un texto.\n",
    "with mic as source:\n",
    "\n",
    "    audio = recognizer.listen(source)\n",
    "\n",
    "texto = recognizer.recognize_google(audio, language = 'ES')\n",
    "\n",
    "print(f'Has dicho: {texto}')"
   ]
  },
  {
   "cell_type": "code",
   "execution_count": null,
   "metadata": {},
   "outputs": [],
   "source": [
    "# En Terminal ejecutar para carga del modelo en español: spacy download es_core_news_lg\n",
    "nlp = spacy.load('es_core_news_lg')     #carga de modelo \"large\", mas completo que el utilizado anteriormente\n",
    "\n",
    "documento = nlp(texto)      #creamos: documento\n",
    "\n",
    "engine = pyttsx3.init()\n",
    "engine.say('las entidades encontradas son')\n",
    "\n",
    "for entidad in documento.ents:          #recorrer el texto buscando entidades\n",
    "    engine.say(entidad.text)\n",
    "    engine.runAndWait()\n",
    "    print(entidad.text, entidad.label_)\n"
   ]
  }
 ],
 "metadata": {
  "kernelspec": {
   "display_name": "base",
   "language": "python",
   "name": "python3"
  },
  "language_info": {
   "codemirror_mode": {
    "name": "ipython",
    "version": 3
   },
   "file_extension": ".py",
   "mimetype": "text/x-python",
   "name": "python",
   "nbconvert_exporter": "python",
   "pygments_lexer": "ipython3",
   "version": "3.9.13"
  }
 },
 "nbformat": 4,
 "nbformat_minor": 2
}
